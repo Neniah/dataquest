{
 "cells": [
  {
   "cell_type": "code",
   "execution_count": null,
   "metadata": {},
   "outputs": [],
   "source": [
    "#f = open('births.csv', 'r')\n",
    "\n",
    "def read_csv(file_name):\n",
    "    f = open(file_name)\n",
    "    data = f.read()\n",
    "    string_list = data.split(\"\\n\")[1:]\n",
    "    string_fields = []\n",
    "    \n",
    "    final_list = []\n",
    "    \n",
    "    for row in string_list:\n",
    "        string_fields = row.split(',')\n",
    "        int_fields = []\n",
    "        for item in string_fields:\n",
    "            int_fields.append(int(item))\n",
    "            \n",
    "        final_list.append(int_fields)\n",
    "        print(final_list)\n",
    "        \n",
    "    return final_list\n",
    "\n",
    "#US_births_1994-2003_CDC_NCHS.csv\n",
    "cdc_list = read_csv(\"births.csv\")\n",
    "#for item in range(0,10):\n",
    "    #print(cdc_list[item])"
   ]
  },
  {
   "cell_type": "code",
   "execution_count": null,
   "metadata": {
    "collapsed": true
   },
   "outputs": [],
   "source": []
  },
  {
   "cell_type": "code",
   "execution_count": null,
   "metadata": {},
   "outputs": [],
   "source": []
  },
  {
   "cell_type": "code",
   "execution_count": null,
   "metadata": {
    "collapsed": true
   },
   "outputs": [],
   "source": [
    "line = text.split(\"\\n\")"
   ]
  },
  {
   "cell_type": "code",
   "execution_count": 29,
   "metadata": {
    "collapsed": true
   },
   "outputs": [],
   "source": [
    "new_line = line[1:(len(line) + 1)]\n"
   ]
  },
  {
   "cell_type": "code",
   "execution_count": 28,
   "metadata": {},
   "outputs": [
    {
     "ename": "SyntaxError",
     "evalue": "invalid syntax (<ipython-input-28-cc5737229303>, line 2)",
     "output_type": "error",
     "traceback": [
      "\u001b[1;36m  File \u001b[1;32m\"<ipython-input-28-cc5737229303>\"\u001b[1;36m, line \u001b[1;32m2\u001b[0m\n\u001b[1;33m    for each in line(1:):\u001b[0m\n\u001b[1;37m                      ^\u001b[0m\n\u001b[1;31mSyntaxError\u001b[0m\u001b[1;31m:\u001b[0m invalid syntax\n"
     ]
    }
   ],
   "source": [
    "days_counts = {}\n",
    "for each in line:\n",
    "    row = each.split(',')\n",
    "    days_counts[row[3]] = row[4]"
   ]
  },
  {
   "cell_type": "code",
   "execution_count": null,
   "metadata": {
    "collapsed": true
   },
   "outputs": [],
   "source": [
    "\n",
    "\n",
    "    "
   ]
  },
  {
   "cell_type": "code",
   "execution_count": 26,
   "metadata": {},
   "outputs": [
    {
     "data": {
      "text/plain": [
       "{'1': '12823',\n",
       " '2': '14438',\n",
       " '3': '12374',\n",
       " '4': '6628',\n",
       " '5': '10218',\n",
       " '6': '8646',\n",
       " '7': '7645',\n",
       " 'day_of_week': 'births'}"
      ]
     },
     "execution_count": 26,
     "metadata": {},
     "output_type": "execute_result"
    }
   ],
   "source": [
    "days_counts"
   ]
  },
  {
   "cell_type": "code",
   "execution_count": null,
   "metadata": {
    "collapsed": true
   },
   "outputs": [],
   "source": []
  }
 ],
 "metadata": {
  "anaconda-cloud": {},
  "kernelspec": {
   "display_name": "Python 3",
   "language": "python",
   "name": "python3"
  },
  "language_info": {
   "codemirror_mode": {
    "name": "ipython",
    "version": 3
   },
   "file_extension": ".py",
   "mimetype": "text/x-python",
   "name": "python",
   "nbconvert_exporter": "python",
   "pygments_lexer": "ipython3",
   "version": "3.6.2"
  }
 },
 "nbformat": 4,
 "nbformat_minor": 1
}
